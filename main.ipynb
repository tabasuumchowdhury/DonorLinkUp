{
 "cells": [
  {
   "cell_type": "code",
   "execution_count": 26,
   "metadata": {},
   "outputs": [],
   "source": [
    "import pandas as pd"
   ]
  },
  {
   "cell_type": "code",
   "execution_count": 27,
   "metadata": {},
   "outputs": [
    {
     "name": "stdout",
     "output_type": "stream",
     "text": [
      "utf_8\n"
     ]
    }
   ],
   "source": [
    "from charset_normalizer import from_path\n",
    "\n",
    "result = from_path(\"charity.csv\").best()\n",
    "print(result.encoding)"
   ]
  },
  {
   "cell_type": "code",
   "execution_count": 28,
   "metadata": {},
   "outputs": [],
   "source": [
    "df = pd.read_csv(\"charity.csv\", encoding=\"utf_8\", on_bad_lines=\"skip\", \n",
    "                 keep_default_na=False, na_values=[\"\", \"NA\", \"N/A\"])"
   ]
  },
  {
   "cell_type": "code",
   "execution_count": 29,
   "metadata": {},
   "outputs": [
    {
     "data": {
      "text/html": [
       "<div>\n",
       "<style scoped>\n",
       "    .dataframe tbody tr th:only-of-type {\n",
       "        vertical-align: middle;\n",
       "    }\n",
       "\n",
       "    .dataframe tbody tr th {\n",
       "        vertical-align: top;\n",
       "    }\n",
       "\n",
       "    .dataframe thead th {\n",
       "        text-align: right;\n",
       "    }\n",
       "</style>\n",
       "<table border=\"1\" class=\"dataframe\">\n",
       "  <thead>\n",
       "    <tr style=\"text-align: right;\">\n",
       "      <th></th>\n",
       "      <th>BN</th>\n",
       "      <th>Category</th>\n",
       "      <th>Legal Name</th>\n",
       "      <th>Account Name</th>\n",
       "      <th>Address Line 1</th>\n",
       "      <th>Address Line 2</th>\n",
       "      <th>City</th>\n",
       "      <th>Province</th>\n",
       "      <th>Postal Code</th>\n",
       "      <th>Country</th>\n",
       "    </tr>\n",
       "  </thead>\n",
       "  <tbody>\n",
       "    <tr>\n",
       "      <th>0</th>\n",
       "      <td>850144502RR0001</td>\n",
       "      <td>Supportive Health Care</td>\n",
       "      <td>WINGS OF HOPE FOR AFRICA FOUNDATION</td>\n",
       "      <td>Wings of Hope for Africa Foundation</td>\n",
       "      <td>3936 29 ST NE</td>\n",
       "      <td>NaN</td>\n",
       "      <td>CALGARY</td>\n",
       "      <td>AB</td>\n",
       "      <td>T1Y6B6</td>\n",
       "      <td>CA</td>\n",
       "    </tr>\n",
       "    <tr>\n",
       "      <th>1</th>\n",
       "      <td>806188355RR0001</td>\n",
       "      <td>Foundations</td>\n",
       "      <td>COURTHILL FOUNDATION</td>\n",
       "      <td>COURTHILL FOUNDATION</td>\n",
       "      <td>38 PRINCE ARTHUR AVE</td>\n",
       "      <td>NaN</td>\n",
       "      <td>TORONTO</td>\n",
       "      <td>ON</td>\n",
       "      <td>M5R1A9</td>\n",
       "      <td>CA</td>\n",
       "    </tr>\n",
       "    <tr>\n",
       "      <th>2</th>\n",
       "      <td>815258793RR0001</td>\n",
       "      <td>Foundations Advancing Religions</td>\n",
       "      <td>Union Orthodoxe d'Antioche du Canada (UOAC)</td>\n",
       "      <td>Union Orthodoxe d'Antioche du Canada (UOAC)</td>\n",
       "      <td>400 AV VIVIAN</td>\n",
       "      <td>NaN</td>\n",
       "      <td>MONT-ROYAL</td>\n",
       "      <td>QC</td>\n",
       "      <td>H3P1P5</td>\n",
       "      <td>CA</td>\n",
       "    </tr>\n",
       "    <tr>\n",
       "      <th>3</th>\n",
       "      <td>889258398RR0001</td>\n",
       "      <td>Supportive Health Care</td>\n",
       "      <td>The Bayview hospital centre auxiliary</td>\n",
       "      <td>THE BAYVIEW HOSPITAL CENTRE AUXILIARY</td>\n",
       "      <td>27 LAKESHORE</td>\n",
       "      <td>NaN</td>\n",
       "      <td>POINTE-CLAIRE</td>\n",
       "      <td>QC</td>\n",
       "      <td>H9S4H1</td>\n",
       "      <td>CA</td>\n",
       "    </tr>\n",
       "    <tr>\n",
       "      <th>4</th>\n",
       "      <td>824120042RR0001</td>\n",
       "      <td>Christianity</td>\n",
       "      <td>GOD EVANGELICAL MINISTRIES</td>\n",
       "      <td>God Evangelical Ministries</td>\n",
       "      <td>15 - 175 TORYORK DR</td>\n",
       "      <td>NaN</td>\n",
       "      <td>NORTH YORK</td>\n",
       "      <td>ON</td>\n",
       "      <td>M9L2Y7</td>\n",
       "      <td>CA</td>\n",
       "    </tr>\n",
       "  </tbody>\n",
       "</table>\n",
       "</div>"
      ],
      "text/plain": [
       "                BN                         Category  \\\n",
       "0  850144502RR0001           Supportive Health Care   \n",
       "1  806188355RR0001                      Foundations   \n",
       "2  815258793RR0001  Foundations Advancing Religions   \n",
       "3  889258398RR0001           Supportive Health Care   \n",
       "4  824120042RR0001                     Christianity   \n",
       "\n",
       "                                    Legal Name  \\\n",
       "0          WINGS OF HOPE FOR AFRICA FOUNDATION   \n",
       "1                         COURTHILL FOUNDATION   \n",
       "2  Union Orthodoxe d'Antioche du Canada (UOAC)   \n",
       "3        The Bayview hospital centre auxiliary   \n",
       "4                   GOD EVANGELICAL MINISTRIES   \n",
       "\n",
       "                                  Account Name        Address Line 1  \\\n",
       "0          Wings of Hope for Africa Foundation         3936 29 ST NE   \n",
       "1                         COURTHILL FOUNDATION  38 PRINCE ARTHUR AVE   \n",
       "2  Union Orthodoxe d'Antioche du Canada (UOAC)         400 AV VIVIAN   \n",
       "3        THE BAYVIEW HOSPITAL CENTRE AUXILIARY          27 LAKESHORE   \n",
       "4                   God Evangelical Ministries   15 - 175 TORYORK DR   \n",
       "\n",
       "  Address Line 2           City Province Postal Code Country  \n",
       "0            NaN        CALGARY       AB      T1Y6B6      CA  \n",
       "1            NaN        TORONTO       ON      M5R1A9      CA  \n",
       "2            NaN     MONT-ROYAL       QC      H3P1P5      CA  \n",
       "3            NaN  POINTE-CLAIRE       QC      H9S4H1      CA  \n",
       "4            NaN     NORTH YORK       ON      M9L2Y7      CA  "
      ]
     },
     "execution_count": 29,
     "metadata": {},
     "output_type": "execute_result"
    }
   ],
   "source": [
    "df.head()"
   ]
  },
  {
   "cell_type": "code",
   "execution_count": 30,
   "metadata": {},
   "outputs": [],
   "source": [
    "from Charity import Charity\n",
    "\n",
    "charity_instance = Charity(\"12345\", \"Category\",\n",
    "                           \"Legal Name\", \"Account Name\", \"Line 1\", \"Line 2\",\n",
    "                           \"City\", \"Province\", \"PostalCode\", \"Country\")"
   ]
  },
  {
   "cell_type": "code",
   "execution_count": 31,
   "metadata": {},
   "outputs": [],
   "source": [
    "charity_list = []\n",
    "\n",
    "for _, row in df.iterrows():\n",
    "    charity = Charity(\n",
    "        bn=row.get(\"BN\", \"\"),\n",
    "        cat=row.get(\"Category\", \"\"),\n",
    "        legalName=row.get(\"Legal Name\", \"\"),\n",
    "        accName=row.get(\"Account Name\", \"\"),\n",
    "        addressLine1=row.get(\"Address Line1\", \"\"),\n",
    "        addressLine2=row.get(\"Address Line2\", \"\"),\n",
    "        city=row.get(\"City\", \"\"),\n",
    "        province=row.get(\"Province\", \"\"),\n",
    "        postalCode=row.get(\"Postal Code\", \"\"),\n",
    "        country=row.get(\"Country\", \"\")\n",
    "    )\n",
    "    charity_list.append(charity)\n"
   ]
  },
  {
   "cell_type": "code",
   "execution_count": 32,
   "metadata": {},
   "outputs": [
    {
     "name": "stdout",
     "output_type": "stream",
     "text": [
      "BN: 850144502RR0001, Legal Name: WINGS OF HOPE FOR AFRICA FOUNDATION, City: CALGARY\n",
      "BN: 806188355RR0001, Legal Name: COURTHILL FOUNDATION, City: TORONTO\n",
      "BN: 815258793RR0001, Legal Name: Union Orthodoxe d'Antioche du Canada (UOAC), City: MONT-ROYAL\n",
      "BN: 889258398RR0001, Legal Name: The Bayview hospital centre auxiliary, City: POINTE-CLAIRE\n",
      "BN: 824120042RR0001, Legal Name: GOD EVANGELICAL MINISTRIES, City: NORTH YORK\n",
      "BN: 890765845RR0001, Legal Name: 5T6 CIVILS SCHOLARSHIP FUND, THE, City: PUSLINCH\n",
      "BN: 839763612RR0001, Legal Name: HANDS IN PEACE SOCIETY, City: WEST VANCOUVER\n",
      "BN: 836044719RR0001, Legal Name: CONGREGATIONAL CHURCH OF CHEBOGUE PRESERVATION SOCIETY, City: ROCKVILLE\n",
      "BN: 106921208RR0001, Legal Name: THE CHRISTMAS CHEER BOARD OF GREATER WINNIPEG INC., City: WINNIPEG\n",
      "BN: 735144115RR0001, Legal Name: BOOKTON CEMETERY, City: LA SALETTE\n"
     ]
    }
   ],
   "source": [
    "for charity in charity_list[:10]:  # Print the first 5 objects\n",
    "    print(f\"BN: {charity.bn}, Legal Name: {charity.legalName}, City: {charity.city}\")"
   ]
  },
  {
   "cell_type": "code",
   "execution_count": 33,
   "metadata": {},
   "outputs": [
    {
     "data": {
      "text/plain": [
       "'CA'"
      ]
     },
     "execution_count": 33,
     "metadata": {},
     "output_type": "execute_result"
    }
   ],
   "source": [
    "charity_list[0].country"
   ]
  },
  {
   "cell_type": "code",
   "execution_count": 34,
   "metadata": {},
   "outputs": [],
   "source": [
    "charity_chosen =[]\n",
    "for charity in charity_list:  # Print the first 5 objects\n",
    "    if (charity.cat == \"Supportive Health Care\" and\n",
    "        charity.city == \"MONTREAL\") :\n",
    "        charity_chosen.append(charity)"
   ]
  },
  {
   "cell_type": "code",
   "execution_count": 35,
   "metadata": {},
   "outputs": [
    {
     "name": "stdout",
     "output_type": "stream",
     "text": [
      "Category: Supportive Health Care, Legal Name: L'ASSOCIATION DES AUXILIAIRES BENEVOLES DES ETABLISSEMENTS, City: MONTREAL\n",
      "Category: Supportive Health Care, Legal Name: LES AUXILIAIRES DE L'HOPITAL GENERAL DE MONTREAL, City: MONTREAL\n",
      "Category: Supportive Health Care, Legal Name: PRESENCE AMIE DU CENTRE HOSPITALIER FLEURY INC., City: MONTREAL\n",
      "Category: Supportive Health Care, Legal Name: SUIVI COMMUNAUTAIRE LE FIL, City: MONTREAL\n",
      "Category: Supportive Health Care, Legal Name: Association des bénévoles de l'hopital du Sacré-Coeur de Montréal, City: MONTREAL\n",
      "Category: Supportive Health Care, Legal Name: LE TEMPS D'UNE PAUSE, RÉPIT ET SOUTIEN AUX PROCHES AIDANTS D'AINÉS AVEC TROUBLES NEUROCOGNITIFS, City: MONTREAL\n",
      "Category: Supportive Health Care, Legal Name: Centre de pédiatrie sociale Centre-Sud, City: MONTREAL\n",
      "Category: Supportive Health Care, Legal Name: Perspective Autonomie en Santé Mentale, City: MONTREAL\n",
      "Category: Supportive Health Care, Legal Name: Beads of courage - Canada / Perles de courage - Canada, City: MONTREAL\n",
      "Category: Supportive Health Care, Legal Name: BUANDERIE CENTRALE DE MONTREAL INC, City: MONTREAL\n"
     ]
    }
   ],
   "source": [
    "for charity in charity_chosen[:10]:  # Print the first 5 objects\n",
    "    print(f\"Category: {charity.cat}, Legal Name: {charity.legalName}, City: {charity.city}\")"
   ]
  },
  {
   "cell_type": "code",
   "execution_count": null,
   "metadata": {},
   "outputs": [],
   "source": []
  }
 ],
 "metadata": {
  "kernelspec": {
   "display_name": ".venv",
   "language": "python",
   "name": "python3"
  },
  "language_info": {
   "codemirror_mode": {
    "name": "ipython",
    "version": 3
   },
   "file_extension": ".py",
   "mimetype": "text/x-python",
   "name": "python",
   "nbconvert_exporter": "python",
   "pygments_lexer": "ipython3",
   "version": "3.13.0"
  }
 },
 "nbformat": 4,
 "nbformat_minor": 2
}
